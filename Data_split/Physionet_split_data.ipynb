{
 "cells": [
  {
   "metadata": {
    "ExecuteTime": {
     "end_time": "2025-10-02T07:35:15.982809Z",
     "start_time": "2025-10-02T07:34:00.251885Z"
    }
   },
   "cell_type": "code",
   "source": [
    "import glob\n",
    "import os\n",
    "import librosa\n",
    "import numpy as np\n",
    "\n",
    "path_old = 'D:\\\\Research\\\\About4\\\\data\\\\BMD-HS-Dataset-main\\\\BMD-HS-Dataset-main\\\\seg_re\\\\5'\n",
    "audio = []\n",
    "wav_files = glob.glob(os.path.join(path_old, '*.wav'))\n",
    "\n",
    "for file_name in wav_files:\n",
    "    base_name = os.path.basename(file_name)\n",
    "    if base_name[0] == 'N':\n",
    "        label = np.array([0., 1.])   # normal\n",
    "    else:\n",
    "        label = np.array([1., 0.])   # abnormal\n",
    "    \n",
    "    y, sr = librosa.load(file_name, sr=1000)\n",
    "    audio.append([base_name, label, y])\n",
    "    \n",
    "audio = np.array(audio, dtype=object)\n",
    "np.save(\"BMD_audio/audios_and_labels.npy\", audio)"
   ],
   "id": "b6af3913c5c3cf22",
   "outputs": [],
   "execution_count": 2
  },
  {
   "metadata": {
    "ExecuteTime": {
     "end_time": "2025-10-02T14:28:59.578888Z",
     "start_time": "2025-10-02T14:28:53.044546Z"
    }
   },
   "cell_type": "code",
   "source": [
    "import numpy as np\n",
    "\n",
    "audio = np.load(\"BMD_audio/audios_and_labels.npy\", allow_pickle=True)\n",
    "np.random.shuffle(audio)\n",
    "\n",
    "n_total = len(audio)\n",
    "n_train = int(0.8 * n_total)\n",
    "n_val = int(0.1 * n_total)\n",
    "n_test = n_total - n_train - n_val\n",
    "\n",
    "train_set = audio[:n_train]\n",
    "val_set = audio[n_train:n_train+n_val]\n",
    "test_set = audio[n_train+n_val:]\n",
    "\n",
    "print(f\"Total: {n_total}, Train: {len(train_set)}, Val: {len(val_set)}, Test: {len(test_set)}\")\n",
    "\n",
    "np.save(\"BMD_audio2/train_audios.npy\", train_set)\n",
    "np.save(\"BMD_audio2/val_audios.npy\", val_set)\n",
    "np.save(\"BMD_audio2/test_audios.npy\", test_set)\n"
   ],
   "id": "f19fa10dbb2a0888",
   "outputs": [
    {
     "name": "stdout",
     "output_type": "stream",
     "text": [
      "Total: 20678, Train: 16542, Val: 2067, Test: 2069\n"
     ]
    }
   ],
   "execution_count": 13
  },
  {
   "metadata": {
    "ExecuteTime": {
     "end_time": "2025-10-02T08:34:46.524978Z",
     "start_time": "2025-10-02T08:34:42.010853Z"
    }
   },
   "cell_type": "code",
   "source": [
    "import numpy as np\n",
    "import librosa\n",
    "\n",
    "def extract_features_from_waveform(y, sr=1000, n_fft=1024, win_length=50, hop_length=25, n_mels=40):\n",
    "    S = librosa.feature.melspectrogram(y=y, sr=sr, n_fft=n_fft, win_length=win_length, hop_length=hop_length, n_mels=n_mels)\n",
    "    return S\n",
    "\n",
    "audio_path = \"BMD_audio/val_audios.npy\"\n",
    "audio_data = np.load(audio_path, allow_pickle=True)\n",
    "mel_features = []\n",
    "\n",
    "for idx, sample in enumerate(audio_data):\n",
    "    filename, label, y = sample\n",
    "    mels = extract_features_from_waveform(y, sr=1000)\n",
    "    mel_features.append([filename, label, y, mels])\n",
    "\n",
    "mel_features = np.array(mel_features, dtype=object)\n",
    "np.save(\"BMD_mel/val_mels_40_100.npy\", mel_features)\n"
   ],
   "id": "db5fbe752f04763",
   "outputs": [],
   "execution_count": 6
  },
  {
   "metadata": {},
   "cell_type": "code",
   "outputs": [],
   "execution_count": null,
   "source": "",
   "id": "3659f566877b2833"
  }
 ],
 "metadata": {
  "kernelspec": {
   "display_name": "Python 3",
   "language": "python",
   "name": "python3"
  },
  "language_info": {
   "codemirror_mode": {
    "name": "ipython",
    "version": 2
   },
   "file_extension": ".py",
   "mimetype": "text/x-python",
   "name": "python",
   "nbconvert_exporter": "python",
   "pygments_lexer": "ipython2",
   "version": "2.7.6"
  }
 },
 "nbformat": 4,
 "nbformat_minor": 5
}
